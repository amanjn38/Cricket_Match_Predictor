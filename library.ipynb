import numpy as np # linear algebra
import pandas as pd # data processing, CSV file I/O (e.g. pd.read_csv)
from subprocess import check_output
# print(check_output(["ls", "../library"]).decode("utf8"))
# check if the matches.csv is uploaded in the location
matches=pd.read_csv('../library/matches.csv')
matches.info()
