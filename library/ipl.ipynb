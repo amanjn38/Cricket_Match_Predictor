{
 "cells": [
  {
   "cell_type": "code",
   "execution_count": 1,
   "metadata": {},
   "outputs": [],
   "source": [
    "import numpy as np # linear algebra\n",
    "import pandas as pd # data processing, CSV file I/O (e.g. pd.read_csv)\n",
    "from subprocess import check_output\n",
    "# print(check_output([\"ls\", \"../library\"]).decode(\"utf8\"))\n",
    "\n",
    "# check if the matches.csv is uploaded in the location"
   ]
  }
  ]
  }
