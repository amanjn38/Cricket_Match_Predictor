{
 "cells": [
  {
   "cell_type": "code",
   "execution_count": 1,
   "metadata": {},
   "outputs": [],
   "source": [
    "import numpy as np # linear algebra\n",
    "import pandas as pd # data processing, CSV file I/O (e.g. pd.read_csv)\n",
    "from subprocess import check_output\n",
    "# print(check_output([\"ls\", \"../library\"]).decode(\"utf8\"))\n",
    "\n",
    "# check if the matches.csv is uploaded in the location"
   ]
  },
    {
   "cell_type": "code",
   "execution_count": 2,
   "metadata": {},
   "outputs": [
    {
     "name": "stdout",
     "output_type": "stream",
     "text": [
      "<class 'pandas.core.frame.DataFrame'>\n",
      "RangeIndex: 577 entries, 0 to 576\n",
      "Data columns (total 18 columns):\n",
      "id                 577 non-null int64\n",
      "season             577 non-null int64\n",
      "city               570 non-null object\n",
      "date               577 non-null object\n",
      "team1              577 non-null object\n",
      "team2              577 non-null object\n",
      "toss_winner        577 non-null object\n",
      "toss_decision      577 non-null object\n",
      "result             577 non-null object\n",
      "dl_applied         577 non-null int64\n",
      "winner             574 non-null object\n",
      "win_by_runs        577 non-null int64\n",
      "win_by_wickets     577 non-null int64\n",
      "player_of_match    574 non-null object\n",
      "venue              577 non-null object\n",
      "umpire1            577 non-null object\n",
      "umpire2            577 non-null object\n",
      "umpire3            0 non-null float64\n",
      "dtypes: float64(1), int64(5), object(12)\n",
      "memory usage: 54.2+ KB\n"
     ]
    }
   ],
   "source": [
    "matches=pd.read_csv('../library/matches.csv')\n",
    "matches.info()"
   ]
  }
  ]
  }
